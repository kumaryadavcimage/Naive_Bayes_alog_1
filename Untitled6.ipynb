{
 "cells": [
  {
   "cell_type": "markdown",
   "id": "6ad70962-0114-49d5-9a20-ebbdd95ece7d",
   "metadata": {},
   "source": [
    "#### Q1. What is Bayes' theorem? "
   ]
  },
  {
   "cell_type": "markdown",
   "id": "1cb3fbb5-8a0e-472e-a301-d257db760565",
   "metadata": {},
   "source": [
    "#### solve\n",
    "\n",
    "Bayes' theorem is a fundamental principle in probability theory and statistics that describes how to update the probabilities of hypotheses when given new evidence. It provides a way to revise existing predictions or theories in light of new data.\n",
    "\n",
    "Mathematically Bayes' theorem is expressed as:\n",
    "- P(A/B)=P(A)*P(B/A)/P(B)\n",
    "\n",
    "Where:\n",
    "- P(A/B) is the posterior probability: the probability of hypothesis A given tge evidence B.\n",
    "- P(B/A is the likehood: the probability of evidence B given that hypothesis A is true.\n",
    "- P(A) is the prior probability: the initial probability of hypothesis A before seeing the evdence B.\n",
    "- P(B) is the marginal probability: the total probability of the evidence B under all possible hypotheses."
   ]
  },
  {
   "cell_type": "markdown",
   "id": "51bdb56e-f412-4996-b741-a7c581adc37e",
   "metadata": {},
   "source": [
    "#### Q2. What is the formula for Bayes' theorem?"
   ]
  },
  {
   "cell_type": "markdown",
   "id": "b4637b30-1ffc-4e6f-9fa4-f1525ae434e8",
   "metadata": {},
   "source": [
    "#### solve\n",
    "Mathematically Bayes' theorem is expressed as:\n",
    "- P(A/B)=P(A)*P(B/A)/P(B)\n",
    "\n",
    "Where:\n",
    "- P(A/B) is the posterior probability: the probability of hypothesis A given tge evidence B.\n",
    "- P(B/A is the likehood: the probability of evidence B given that hypothesis A is true.\n",
    "- P(A) is the prior probability: the initial probability of hypothesis A before seeing the evdence B.\n",
    "- P(B) is the marginal probability: the total probability of the evidence B under all possible hypotheses."
   ]
  },
  {
   "cell_type": "markdown",
   "id": "8c649afb-9a16-4a8b-967c-e60d953f5c95",
   "metadata": {},
   "source": [
    "#### Q3. How is Bayes' theorem used in practice? "
   ]
  },
  {
   "cell_type": "markdown",
   "id": "86286eff-00b2-425c-baab-665fe5a7be87",
   "metadata": {},
   "source": [
    "#### solve\n",
    "a. Medical Diagnosis\n",
    "- Bayes' theorem is used to update the probability of a patient having a certain disease based on new test results. For instance, if a patient tests positive for a disease, Bayes' theorem helps to determine the actual likelihood that the patient has the disease by considering the test's accuracy and the prevalence of the disease in the population.\n",
    "\n",
    "b. Spam Filtering\n",
    "- Email services use Bayes' theorem to filter out spam emails. A Bayesian spam filter calculates the probability that an email is spam based on the words it contains and compares it to known spam and legitimate emails.\n",
    "\n",
    "c. Machine Learning and Data Science\n",
    "- In machine learning, especially in classification problems, Bayesian methods are used to make predictions. Naive Bayes classifiers, which assume independence between features, are particularly popular for text classification tasks such as sentiment analysis, document categorization, and more.\n",
    "\n",
    "d. Finance and Economics\n",
    "- Bayesian methods are used in financial modeling to update the probabilities of various economic events based on new market data. This can include stock price prediction, risk assessment, and portfolio optimization.\n",
    "\n",
    "e.Forensic Science\n",
    "- In forensic science, Bayes' theorem is used to evaluate evidence. For example, the probability of a suspect's guilt can be updated based on DNA evidence, fingerprints, or other forensic data.\n",
    "\n",
    "f.Weather Forecasting\n",
    "- Meteorologists use Bayesian methods to update weather forecasts as new data comes in from satellites, weather stations, and other sources."
   ]
  },
  {
   "cell_type": "markdown",
   "id": "7db04e1c-b1c5-4d17-bb97-f4fa10122109",
   "metadata": {},
   "source": [
    "#### Q4. What is the relationship between Bayes' theorem and conditional probability?"
   ]
  },
  {
   "cell_type": "markdown",
   "id": "1a58c378-d26a-49a6-9473-b3960f738dba",
   "metadata": {},
   "source": [
    "#### solve\n",
    "\n",
    "Bayes' theorem is fundamentally based on the concept of conditional probability. Conditional probability is the probability of an event occurring given that another event has already occurred. Bayes' theorem uses this idea to relate the probabilities of events in a specific way. Here’s how they are connected:\n",
    "\n",
    "Conditional Probability\n",
    "- The conditional probability of events A given event B is denoted as P(A/B). it is defined as:\n",
    "-- P(A/B)=P(A∩B)/P(B)\n",
    "\n",
    "where :\n",
    "- P(A∩B) is the probability of both A and B occuring.\n",
    "- P(B) is the probability of B occuring.\n",
    "\n",
    "Bayes' theorem is a fundamental principle in probability theory and statistics that describes how to update the probabilities of hypotheses when given new evidence. It provides a way to revise existing predictions or theories in light of new data.\n",
    "\n",
    "Mathematically Bayes' theorem is expressed as:\n",
    "- P(A/B)=P(A)*P(B/A)/P(B)\n",
    "\n",
    "Where:\n",
    "- P(A/B) is the posterior probability: the probability of hypothesis A given tge evidence B.\n",
    "- P(B/A is the likehood: the probability of evidence B given that hypothesis A is true.\n",
    "- P(A) is the prior probability: the initial probability of hypothesis A before seeing the evdence B.\n",
    "- P(B) is the marginal probability: the total probability of the evidence B under all possible hypotheses."
   ]
  },
  {
   "cell_type": "markdown",
   "id": "1864ffac-811a-4cfe-a588-d715f0057d73",
   "metadata": {},
   "source": [
    "####  Q5. How do you choose which type of Naive Bayes classifier to use for any given problem?"
   ]
  },
  {
   "cell_type": "markdown",
   "id": "dc611d65-ab7e-4bcd-84db-3f2369fc1174",
   "metadata": {},
   "source": [
    "#### solve\n",
    "Choosing the right type of Naive Bayes classifier depends on the nature of the data and the specific problem you are trying to solve. The three main types of Naive Bayes classifiers are:\n",
    "\n",
    "- Gaussian Naive Bayes\n",
    "- Multinomial Naive Bayes\n",
    "- Bernoulli Naive Bayes\n",
    "\n",
    "Here’s a guide to help you decide which one to use:\n",
    "\n",
    "a. Gaussian Naive Bayes\n",
    "\n",
    "Use When:\n",
    "- The features are continuous and follow a normal (Gaussian) distribution.\n",
    "\n",
    "Characteristics:\n",
    "\n",
    "- Assumes that the continuous features follow a Gaussian distribution.\n",
    "- Often used for datasets where the features are numerical and normally distributed.\n",
    "\n",
    "Example Applications:\n",
    "- Predicting the likelihood of different outcomes based on continuous variables (e.g., predicting house prices based on features like area, number of rooms, etc.).\n",
    "- Medical diagnostics where test results are continuous variables.\n",
    "\n",
    "b. Multinomial Naive Bayes\n",
    "\n",
    "Use When:\n",
    "-The features are discrete and represent counts or frequencies.\n",
    "\n",
    "Characteristics:\n",
    "- Works well with text classification problems where the features are word counts or term frequencies.\n",
    "- Assumes that feature values represent counts of occurrences (e.g., number of times a word appears in a document).\n",
    "\n",
    "Example Applications:\n",
    "- Text classification tasks such as spam detection, document categorization, and sentiment analysis.\n",
    "- Term frequency-inverse document frequency (TF-IDF) transformed text data.\n",
    "\n",
    "c. Bernoulli Naive Bayes\n",
    "\n",
    "Use When:\n",
    "- The features are binary (0 or 1), indicating the presence or absence of a feature.\n",
    "\n",
    "Characteristics:\n",
    "- Suitable for binary/boolean features.\n",
    "- Assumes that the features are binary and can only take two values, typically 0 or 1.\n",
    "\n",
    "Example Applications:\n",
    "- Text classification where the features are binary (e.g., the presence or absence of a word in a document).\n",
    "- Any binary feature classification problem (e.g., predicting whether a user will click on an ad based on binary features).\n",
    "\n"
   ]
  },
  {
   "cell_type": "markdown",
   "id": "f6f3652e-5b35-4146-bae8-b44d22539d82",
   "metadata": {},
   "source": [
    "#### Q6. Assignment:\n",
    "You have a dataset with two features, X1 and X2, and two possible classes, A and B. You want to use Naive\n",
    "Bayes to classify a new instance with features X1 = 3 and X2 = 4. The following table shows the frequency of\n",
    "each feature value for each class:\n",
    "\n",
    "Class X1=1 X1=2 X1=3 X2=1 X2=2 X2=3 X2=4\r\n",
    "\n",
    "A 3 3 4 4 3 3 3\n",
    "\r\n",
    "B 2 2 1 2 2 2 3"
   ]
  },
  {
   "cell_type": "code",
   "execution_count": null,
   "id": "f6864c6f-577b-43d1-a8b7-16d66392c7db",
   "metadata": {},
   "outputs": [],
   "source": [
    "#### solve\n",
    "To classify a new instance with features x1 =3 and x2 =4 using naive bayes, we will follow these steps:\n",
    "- calculate the prior probabailities P(A) and p(B).\n",
    "- calculated the likelihood probabilities P(x1=3/A), P(x2=4/A), P(x1=3/B), and P(x2=4/B)\n",
    "- calculated the posterior probabilities P(A/x1=3, x2=4) and P(B/x1=3, x2=4).\n",
    "- choose the class with the higher posterior probability.\n",
    "\n",
    "setp 1. Calculate prior probabilities\n",
    "\n",
    "To find the prior probabilities, we need the total counts for each class.\n",
    "- Total count for class A: 3+3+4+4+3+3+3=23\n",
    "- Total count for class B: 2+2+1+2+2+2+3=14\n",
    "- Total"
   ]
  }
 ],
 "metadata": {
  "kernelspec": {
   "display_name": "Python 3 (ipykernel)",
   "language": "python",
   "name": "python3"
  },
  "language_info": {
   "codemirror_mode": {
    "name": "ipython",
    "version": 3
   },
   "file_extension": ".py",
   "mimetype": "text/x-python",
   "name": "python",
   "nbconvert_exporter": "python",
   "pygments_lexer": "ipython3",
   "version": "3.11.7"
  }
 },
 "nbformat": 4,
 "nbformat_minor": 5
}
